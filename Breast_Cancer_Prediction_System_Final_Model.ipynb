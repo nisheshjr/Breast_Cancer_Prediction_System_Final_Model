{
  "cells": [
    {
      "cell_type": "markdown",
      "metadata": {
        "id": "-FKsjrGupqBQ"
      },
      "source": [
        "#**The Model contains 7 different algorithm for prediction of Breast Cancer whether it is Benign or Malignant and we trying to find which algorithm suits the best for the dataset.**"
      ]
    },
    {
      "cell_type": "markdown",
      "metadata": {
        "id": "ILPEZrEapsNC"
      },
      "source": [
        "#The dataset used in the model for traning and testing is obtained from the University of Wisconsin Hospitals, Madison from Dr. William H. Wolberg."
      ]
    },
    {
      "cell_type": "markdown",
      "metadata": {
        "id": "snR35aUhL6sb"
      },
      "source": [
        "#Data Preprocessing Tools"
      ]
    },
    {
      "cell_type": "markdown",
      "metadata": {
        "id": "KcBZMYLIMBbx"
      },
      "source": [
        "##Importing the libraries"
      ]
    },
    {
      "cell_type": "code",
      "execution_count": null,
      "metadata": {
        "id": "6etx8BnvMFTa"
      },
      "outputs": [],
      "source": [
        "import numpy as np\n",
        "import matplotlib.pyplot as plt\n",
        "import pandas as pd"
      ]
    },
    {
      "cell_type": "markdown",
      "metadata": {
        "id": "x0DdACbBMJTh"
      },
      "source": [
        "##Importing the dataset"
      ]
    },
    {
      "cell_type": "code",
      "execution_count": null,
      "metadata": {
        "id": "iaaA6kgpMRAf"
      },
      "outputs": [],
      "source": [
        "dataset = pd.read_csv('breast_cancer.csv')\n",
        "X = dataset.iloc[:, :-1].values\n",
        "y = dataset.iloc[:, -1].values"
      ]
    },
    {
      "cell_type": "markdown",
      "metadata": {
        "id": "n1L2kUGXMXOW"
      },
      "source": [
        "##Taking care of missing data"
      ]
    },
    {
      "cell_type": "code",
      "execution_count": null,
      "metadata": {
        "id": "ZJ9NvWErMe7c"
      },
      "outputs": [],
      "source": [
        "from sklearn.impute import SimpleImputer\n",
        "imputer = SimpleImputer(missing_values=np.nan, strategy='mean')\n",
        "imputer.fit(X[:, 6:7])\n",
        "X[:, 6:7] = imputer.transform(X[:, 6:7])"
      ]
    },
    {
      "cell_type": "markdown",
      "metadata": {
        "id": "8-K-lRSVMium"
      },
      "source": [
        "##Splitting the dataset into the Training set and Test set"
      ]
    },
    {
      "cell_type": "code",
      "execution_count": null,
      "metadata": {
        "id": "ik1Z_2yZMqmF"
      },
      "outputs": [],
      "source": [
        "from sklearn.model_selection import train_test_split\n",
        "X_train, X_test, Y_train, Y_test = train_test_split(X, y, test_size = 0.25, random_state = 0)"
      ]
    },
    {
      "cell_type": "markdown",
      "metadata": {
        "id": "JNy_5f1lMy8G"
      },
      "source": [
        "##Feature Scaling"
      ]
    },
    {
      "cell_type": "code",
      "execution_count": null,
      "metadata": {
        "id": "GVPf5c1EM2pt"
      },
      "outputs": [],
      "source": [
        "from sklearn.preprocessing import StandardScaler\n",
        "sc = StandardScaler()\n",
        "X_train = sc.fit_transform(X_train)\n",
        "X_test = sc.transform(X_test)"
      ]
    },
    {
      "cell_type": "markdown",
      "metadata": {
        "id": "LQum2drSNzSI"
      },
      "source": [
        "##Logistic Regression"
      ]
    },
    {
      "cell_type": "markdown",
      "metadata": {
        "id": "P6EvJkzHOR37"
      },
      "source": [
        "###Training the Logistic Regression model on the Training set"
      ]
    },
    {
      "cell_type": "code",
      "execution_count": null,
      "metadata": {
        "colab": {
          "base_uri": "https://localhost:8080/"
        },
        "id": "_dXKiAnyOYJ8",
        "outputId": "ac565465-f3aa-411a-a633-aaab65d73f15"
      },
      "outputs": [
        {
          "output_type": "execute_result",
          "data": {
            "text/plain": [
              "LogisticRegression(random_state=0)"
            ]
          },
          "metadata": {},
          "execution_count": 7
        }
      ],
      "source": [
        "from sklearn.linear_model import LogisticRegression\n",
        "classifier_logistic_regression = LogisticRegression(random_state=0)\n",
        "classifier_logistic_regression.fit(X_train, Y_train)"
      ]
    },
    {
      "cell_type": "code",
      "execution_count": null,
      "metadata": {
        "id": "fysX6Qyj2Jqt"
      },
      "outputs": [],
      "source": [
        "# LogisticRegression??"
      ]
    },
    {
      "cell_type": "markdown",
      "metadata": {
        "id": "4zwq9bHV2JSx"
      },
      "source": [
        ""
      ]
    },
    {
      "cell_type": "markdown",
      "metadata": {
        "id": "elRoY1z8c_sa"
      },
      "source": [
        "##K-NN"
      ]
    },
    {
      "cell_type": "markdown",
      "metadata": {
        "id": "_IpYC58YdH83"
      },
      "source": [
        "###Training the K-NN model on the Training set"
      ]
    },
    {
      "cell_type": "code",
      "execution_count": null,
      "metadata": {
        "colab": {
          "base_uri": "https://localhost:8080/"
        },
        "id": "ctlavUXjdOp0",
        "outputId": "cfc255ed-b43b-415d-82eb-b01bca5f7ba4"
      },
      "outputs": [
        {
          "output_type": "execute_result",
          "data": {
            "text/plain": [
              "KNeighborsClassifier()"
            ]
          },
          "metadata": {},
          "execution_count": 9
        }
      ],
      "source": [
        "from sklearn.neighbors import KNeighborsClassifier\n",
        "classifier_knn = KNeighborsClassifier(n_neighbors = 5, metric = 'minkowski', p = 2)\n",
        "classifier_knn.fit(X_train, Y_train)"
      ]
    },
    {
      "cell_type": "code",
      "execution_count": null,
      "metadata": {
        "id": "RcU07vdI82Gg"
      },
      "outputs": [],
      "source": [
        "# KNeighborsClassifier??"
      ]
    },
    {
      "cell_type": "markdown",
      "metadata": {
        "id": "2FJJRM2SfK7n"
      },
      "source": [
        "##SVM"
      ]
    },
    {
      "cell_type": "markdown",
      "metadata": {
        "id": "cYT36AZHfUQi"
      },
      "source": [
        "###Training the SVM model on the Training set"
      ]
    },
    {
      "cell_type": "code",
      "execution_count": null,
      "metadata": {
        "colab": {
          "base_uri": "https://localhost:8080/"
        },
        "id": "UjOvTfqJfb11",
        "outputId": "cb3acef8-0377-4ebe-c883-f77b7d3e10ce"
      },
      "outputs": [
        {
          "output_type": "execute_result",
          "data": {
            "text/plain": [
              "SVC(kernel='linear', probability=True, random_state=0)"
            ]
          },
          "metadata": {},
          "execution_count": 11
        }
      ],
      "source": [
        "from sklearn.svm import SVC\n",
        "classifier_svm = SVC(kernel = 'linear', random_state=0,probability=True)\n",
        "classifier_svm.fit(X_train, Y_train)"
      ]
    },
    {
      "cell_type": "code",
      "execution_count": null,
      "metadata": {
        "id": "EVMvbgyV8PqN"
      },
      "outputs": [],
      "source": [
        "# SVC??"
      ]
    },
    {
      "cell_type": "markdown",
      "metadata": {
        "id": "J0jPPTpifivH"
      },
      "source": [
        "##Kernel SVM"
      ]
    },
    {
      "cell_type": "markdown",
      "metadata": {
        "id": "-AIe9qv8fm18"
      },
      "source": [
        "###Training the Kernel SVM model on the Training set"
      ]
    },
    {
      "cell_type": "code",
      "execution_count": null,
      "metadata": {
        "colab": {
          "base_uri": "https://localhost:8080/"
        },
        "id": "3oGLqU8dfwrC",
        "outputId": "a2330723-3b71-45fa-ec1b-081c1999aa78"
      },
      "outputs": [
        {
          "output_type": "execute_result",
          "data": {
            "text/plain": [
              "SVC(probability=True, random_state=0)"
            ]
          },
          "metadata": {},
          "execution_count": 13
        }
      ],
      "source": [
        "from sklearn.svm import SVC\n",
        "classifier_ksvm = SVC(kernel = 'rbf', random_state=0,probability=True)\n",
        "classifier_ksvm.fit(X_train, Y_train)"
      ]
    },
    {
      "cell_type": "code",
      "execution_count": null,
      "metadata": {
        "id": "rfw8twq4AQKF"
      },
      "outputs": [],
      "source": [
        "# SVC??"
      ]
    },
    {
      "cell_type": "markdown",
      "metadata": {
        "id": "IpGNGhjbf4Ll"
      },
      "source": [
        "##Naive Bayes"
      ]
    },
    {
      "cell_type": "markdown",
      "metadata": {
        "id": "z891EfKdgB4M"
      },
      "source": [
        "###Training the Naive Bayes model on the Training set"
      ]
    },
    {
      "cell_type": "code",
      "execution_count": null,
      "metadata": {
        "colab": {
          "base_uri": "https://localhost:8080/"
        },
        "id": "68YVqev4gHgp",
        "outputId": "a1f14bff-0d19-4d6d-fca8-be2c57122b45"
      },
      "outputs": [
        {
          "output_type": "execute_result",
          "data": {
            "text/plain": [
              "GaussianNB()"
            ]
          },
          "metadata": {},
          "execution_count": 15
        }
      ],
      "source": [
        "from sklearn.naive_bayes import GaussianNB\n",
        "classifier_nb = GaussianNB()\n",
        "classifier_nb.fit(X_train, Y_train)"
      ]
    },
    {
      "cell_type": "code",
      "execution_count": null,
      "metadata": {
        "id": "cFLlu2029c1S"
      },
      "outputs": [],
      "source": [
        "# GaussianNB??"
      ]
    },
    {
      "cell_type": "markdown",
      "metadata": {
        "id": "Chl56WTWgOnv"
      },
      "source": [
        "##Decision Tree"
      ]
    },
    {
      "cell_type": "markdown",
      "metadata": {
        "id": "EGLDsWWVg8tI"
      },
      "source": [
        "###Training the Decision Tree model on the Training set"
      ]
    },
    {
      "cell_type": "code",
      "execution_count": null,
      "metadata": {
        "colab": {
          "base_uri": "https://localhost:8080/"
        },
        "id": "C8m_epSBhBIW",
        "outputId": "e05f4b95-a078-40fa-c246-18b33e8efd09"
      },
      "outputs": [
        {
          "output_type": "execute_result",
          "data": {
            "text/plain": [
              "DecisionTreeClassifier(criterion='entropy', random_state=0)"
            ]
          },
          "metadata": {},
          "execution_count": 17
        }
      ],
      "source": [
        "from sklearn.tree import DecisionTreeClassifier\n",
        "classifier_dt = DecisionTreeClassifier(criterion = 'entropy', random_state=0)\n",
        "classifier_dt.fit(X_train, Y_train)"
      ]
    },
    {
      "cell_type": "code",
      "execution_count": null,
      "metadata": {
        "id": "bczH-_jo8h88"
      },
      "outputs": [],
      "source": [
        "# DecisionTreeClassifier??"
      ]
    },
    {
      "cell_type": "markdown",
      "metadata": {
        "id": "ZsqD1_RyhF0c"
      },
      "source": [
        "##Random Forest"
      ]
    },
    {
      "cell_type": "markdown",
      "metadata": {
        "id": "Qzxb8DKThI2q"
      },
      "source": [
        "###Training the Random Forest model on the Training set"
      ]
    },
    {
      "cell_type": "code",
      "execution_count": null,
      "metadata": {
        "colab": {
          "base_uri": "https://localhost:8080/"
        },
        "id": "pXI8YPT5hMZq",
        "outputId": "409a1625-8684-4b65-c32b-892be44a02fc"
      },
      "outputs": [
        {
          "output_type": "execute_result",
          "data": {
            "text/plain": [
              "RandomForestClassifier(criterion='entropy', n_estimators=10, random_state=0)"
            ]
          },
          "metadata": {},
          "execution_count": 19
        }
      ],
      "source": [
        "from sklearn.ensemble import RandomForestClassifier\n",
        "classifier_rf = RandomForestClassifier(n_estimators = 10, criterion = 'entropy', random_state=0)\n",
        "classifier_rf.fit(X_train, Y_train)"
      ]
    },
    {
      "cell_type": "code",
      "execution_count": null,
      "metadata": {
        "id": "kuI0-cIv8sX6"
      },
      "outputs": [],
      "source": [
        "# RandomForestClassifier??"
      ]
    },
    {
      "cell_type": "markdown",
      "metadata": {
        "id": "ZRFPnm4lh6FV"
      },
      "source": [
        "##Predicting the Test set results"
      ]
    },
    {
      "cell_type": "code",
      "execution_count": null,
      "metadata": {
        "colab": {
          "base_uri": "https://localhost:8080/"
        },
        "id": "7xMLByfriB-k",
        "outputId": "b64b7d71-de2a-4194-b152-f8d168e767af"
      },
      "outputs": [
        {
          "output_type": "stream",
          "name": "stdout",
          "text": [
            "The Prediction for  Logistic Regression -> 94.73684210526315\n",
            "The Prediction for  K-NN -> 94.73684210526315\n",
            "The Prediction for  SVM -> 94.15204678362574\n",
            "The Prediction for  Kernel SVM -> 95.32163742690058\n",
            "The Prediction for  Naive Bayes -> 94.15204678362574\n",
            "The Prediction for  Decision Tree -> 95.90643274853801\n",
            "The Prediction for  Random Forest -> 93.56725146198829\n"
          ]
        }
      ],
      "source": [
        "from sklearn.metrics import confusion_matrix, accuracy_score,plot_confusion_matrix\n",
        "\n",
        "model_distionary = {}\n",
        "\n",
        "y_pred = classifier_logistic_regression.predict(X_test)\n",
        "cm_lr = confusion_matrix(Y_test, y_pred)\n",
        "accs = accuracy_score(Y_test, y_pred)\n",
        "model_distionary[\"Logistic Regression\"] = accs*100\n",
        "\n",
        "y_pred = classifier_knn.predict(X_test)\n",
        "cm_knn = confusion_matrix(Y_test, y_pred)\n",
        "accs = accuracy_score(Y_test, y_pred)\n",
        "model_distionary[\"K-NN\"]  =  accs*100\n",
        "\n",
        "y_pred = classifier_svm.predict(X_test)\n",
        "cm_svm = confusion_matrix(Y_test, y_pred)\n",
        "accs = accuracy_score(Y_test, y_pred)\n",
        "model_distionary[\"SVM\"] = accs*100\n",
        "\n",
        "y_pred = classifier_ksvm.predict(X_test)\n",
        "cm_ksvm = confusion_matrix(Y_test, y_pred)\n",
        "accs = accuracy_score(Y_test, y_pred)\n",
        "model_distionary[\"Kernel SVM\"] = accs*100\n",
        "\n",
        "y_pred = classifier_nb.predict(X_test)\n",
        "cm_nb = confusion_matrix(Y_test, y_pred)\n",
        "accs = accuracy_score(Y_test, y_pred)\n",
        "model_distionary[\"Naive Bayes\"] = accs*100\n",
        "\n",
        "y_pred = classifier_dt.predict(X_test)\n",
        "cm_dt = confusion_matrix(Y_test, y_pred)\n",
        "accs = accuracy_score(Y_test, y_pred)\n",
        "model_distionary[\"Decision Tree\"] =  accs*100\n",
        "\n",
        "y_pred = classifier_rf.predict(X_test)\n",
        "cm_rf = confusion_matrix(Y_test, y_pred)\n",
        "accs = accuracy_score(Y_test, y_pred)\n",
        "model_distionary[\"Random Forest\"] = accs*100\n",
        "\n",
        "for key in model_distionary:\n",
        "  print(\"The Prediction for \", key, '->', model_distionary[key])"
      ]
    },
    {
      "cell_type": "markdown",
      "metadata": {
        "id": "B3D7xhzaDziL"
      },
      "source": [
        "##Confusion Matrix"
      ]
    },
    {
      "cell_type": "markdown",
      "metadata": {
        "id": "_hStubj0D-HH"
      },
      "source": [
        "###Confusion Matrix Logistic Regression"
      ]
    },
    {
      "cell_type": "code",
      "execution_count": null,
      "metadata": {
        "colab": {
          "base_uri": "https://localhost:8080/",
          "height": 388
        },
        "id": "0uy9KNJ1DSvn",
        "outputId": "da767aa3-2529-4344-9445-754afb131de5"
      },
      "outputs": [
        {
          "output_type": "stream",
          "name": "stdout",
          "text": [
            "Logistic Regression\n",
            "[[103   4]\n",
            " [  5  59]]\n"
          ]
        },
        {
          "output_type": "stream",
          "name": "stderr",
          "text": [
            "/usr/local/lib/python3.7/dist-packages/sklearn/utils/deprecation.py:87: FutureWarning: Function plot_confusion_matrix is deprecated; Function `plot_confusion_matrix` is deprecated in 1.0 and will be removed in 1.2. Use one of the class methods: ConfusionMatrixDisplay.from_predictions or ConfusionMatrixDisplay.from_estimator.\n",
            "  warnings.warn(msg, category=FutureWarning)\n"
          ]
        },
        {
          "output_type": "display_data",
          "data": {
            "text/plain": [
              "<Figure size 432x288 with 2 Axes>"
            ],
            "image/png": "[encoded data removed]"
          },
          "metadata": {
            "needs_background": "light"
          }
        }
      ],
      "source": [
        "print(\"Logistic Regression\")\n",
        "print(cm_lr)\n",
        "plot_confusion_matrix(classifier_logistic_regression, X_test, Y_test)  \n",
        "plt.show()"
      ]
    },
    {
      "cell_type": "markdown",
      "metadata": {
        "id": "zOcU_TkLELe7"
      },
      "source": [
        "###Confusion Matrix K-NN"
      ]
    },
    {
      "cell_type": "code",
      "execution_count": null,
      "metadata": {
        "colab": {
          "base_uri": "https://localhost:8080/",
          "height": 388
        },
        "id": "h-LkWeAzDXEl",
        "outputId": "53231dd1-afd4-476f-bdac-f5d5d0845072"
      },
      "outputs": [
        {
          "output_type": "stream",
          "name": "stdout",
          "text": [
            "K-NN\n",
            "[[103   4]\n",
            " [  5  59]]\n"
          ]
        },
        {
          "output_type": "stream",
          "name": "stderr",
          "text": [
            "/usr/local/lib/python3.7/dist-packages/sklearn/utils/deprecation.py:87: FutureWarning: Function plot_confusion_matrix is deprecated; Function `plot_confusion_matrix` is deprecated in 1.0 and will be removed in 1.2. Use one of the class methods: ConfusionMatrixDisplay.from_predictions or ConfusionMatrixDisplay.from_estimator.\n",
            "  warnings.warn(msg, category=FutureWarning)\n"
          ]
        },
        {
          "output_type": "display_data",
          "data": {
            "text/plain": [
              "<Figure size 432x288 with 2 Axes>"
            ],
            "image/png": "[encoded data removed]"
          },
          "metadata": {
            "needs_background": "light"
          }
        }
      ],
      "source": [
        "print(\"K-NN\")\n",
        "print(cm_knn)\n",
        "plot_confusion_matrix(classifier_knn, X_test, Y_test)  \n",
        "plt.show()"
      ]
    },
    {
      "cell_type": "markdown",
      "metadata": {
        "id": "cSH5_PpgEQ58"
      },
      "source": [
        "###Confusion Matrix SVM"
      ]
    },
    {
      "cell_type": "code",
      "execution_count": null,
      "metadata": {
        "colab": {
          "base_uri": "https://localhost:8080/",
          "height": 388
        },
        "id": "8y7OFVSuDaML",
        "outputId": "6e70f12b-2ac1-4cdc-fb65-9f6896c04033"
      },
      "outputs": [
        {
          "output_type": "stream",
          "name": "stdout",
          "text": [
            "SVM\n",
            "[[102   5]\n",
            " [  5  59]]\n"
          ]
        },
        {
          "output_type": "stream",
          "name": "stderr",
          "text": [
            "/usr/local/lib/python3.7/dist-packages/sklearn/utils/deprecation.py:87: FutureWarning: Function plot_confusion_matrix is deprecated; Function `plot_confusion_matrix` is deprecated in 1.0 and will be removed in 1.2. Use one of the class methods: ConfusionMatrixDisplay.from_predictions or ConfusionMatrixDisplay.from_estimator.\n",
            "  warnings.warn(msg, category=FutureWarning)\n"
          ]
        },
        {
          "output_type": "display_data",
          "data": {
            "text/plain": [
              "<Figure size 432x288 with 2 Axes>"
            ],
            "image/png": "[encoded data removed]"
          },
          "metadata": {
            "needs_background": "light"
          }
        }
      ],
      "source": [
        "print(\"SVM\")\n",
        "print(cm_svm)\n",
        "plot_confusion_matrix(classifier_svm, X_test, Y_test)  \n",
        "plt.show()"
      ]
    },
    {
      "cell_type": "markdown",
      "metadata": {
        "id": "mmJ-stqAEVFB"
      },
      "source": [
        "###Confusion Matrix Kernel SVM"
      ]
    },
    {
      "cell_type": "code",
      "execution_count": null,
      "metadata": {
        "colab": {
          "base_uri": "https://localhost:8080/",
          "height": 388
        },
        "id": "JnID2Y21Dd53",
        "outputId": "c763d40c-e7d9-423c-ba78-f39bc5c1c766"
      },
      "outputs": [
        {
          "output_type": "stream",
          "name": "stdout",
          "text": [
            "Kernel SVM\n",
            "[[102   5]\n",
            " [  5  59]]\n"
          ]
        },
        {
          "output_type": "stream",
          "name": "stderr",
          "text": [
            "/usr/local/lib/python3.7/dist-packages/sklearn/utils/deprecation.py:87: FutureWarning: Function plot_confusion_matrix is deprecated; Function `plot_confusion_matrix` is deprecated in 1.0 and will be removed in 1.2. Use one of the class methods: ConfusionMatrixDisplay.from_predictions or ConfusionMatrixDisplay.from_estimator.\n",
            "  warnings.warn(msg, category=FutureWarning)\n"
          ]
        },
        {
          "output_type": "display_data",
          "data": {
            "text/plain": [
              "<Figure size 432x288 with 2 Axes>"
            ],
            "image/png": "[encoded data removed]"
          },
          "metadata": {
            "needs_background": "light"
          }
        }
      ],
      "source": [
        "print(\"Kernel SVM\")\n",
        "print(cm_svm)\n",
        "plot_confusion_matrix(classifier_ksvm, X_test, Y_test)  \n",
        "plt.show()"
      ]
    },
    {
      "cell_type": "markdown",
      "metadata": {
        "id": "wLZLT1zjEblC"
      },
      "source": [
        "###Confusion Matrix Naive Bayes"
      ]
    },
    {
      "cell_type": "code",
      "execution_count": null,
      "metadata": {
        "colab": {
          "base_uri": "https://localhost:8080/",
          "height": 388
        },
        "id": "F8mcOD0IDhU4",
        "outputId": "32689187-2e32-4269-c9f1-75d357723ce2"
      },
      "outputs": [
        {
          "output_type": "stream",
          "name": "stdout",
          "text": [
            "Naive Bayes\n",
            "[[99  8]\n",
            " [ 2 62]]\n"
          ]
        },
        {
          "output_type": "stream",
          "name": "stderr",
          "text": [
            "/usr/local/lib/python3.7/dist-packages/sklearn/utils/deprecation.py:87: FutureWarning: Function plot_confusion_matrix is deprecated; Function `plot_confusion_matrix` is deprecated in 1.0 and will be removed in 1.2. Use one of the class methods: ConfusionMatrixDisplay.from_predictions or ConfusionMatrixDisplay.from_estimator.\n",
            "  warnings.warn(msg, category=FutureWarning)\n"
          ]
        },
        {
          "output_type": "display_data",
          "data": {
            "text/plain": [
              "<Figure size 432x288 with 2 Axes>"
            ],
            "image/png": "[encoded data removed]"
          },
          "metadata": {
            "needs_background": "light"
          }
        }
      ],
      "source": [
        "print(\"Naive Bayes\")\n",
        "print(cm_nb)\n",
        "plot_confusion_matrix(classifier_nb, X_test, Y_test)  \n",
        "plt.show()"
      ]
    },
    {
      "cell_type": "markdown",
      "metadata": {
        "id": "ntz-7TgcEgAQ"
      },
      "source": [
        "###Confusion Matrix Decision Tree"
      ]
    },
    {
      "cell_type": "code",
      "execution_count": null,
      "metadata": {
        "colab": {
          "base_uri": "https://localhost:8080/",
          "height": 388
        },
        "id": "9ihheJifDjZn",
        "outputId": "bb65832b-c0ea-4f58-8441-02ab29bff8fa"
      },
      "outputs": [
        {
          "output_type": "stream",
          "name": "stdout",
          "text": [
            "Decision Tree\n",
            "[[103   4]\n",
            " [  3  61]]\n"
          ]
        },
        {
          "output_type": "stream",
          "name": "stderr",
          "text": [
            "/usr/local/lib/python3.7/dist-packages/sklearn/utils/deprecation.py:87: FutureWarning: Function plot_confusion_matrix is deprecated; Function `plot_confusion_matrix` is deprecated in 1.0 and will be removed in 1.2. Use one of the class methods: ConfusionMatrixDisplay.from_predictions or ConfusionMatrixDisplay.from_estimator.\n",
            "  warnings.warn(msg, category=FutureWarning)\n"
          ]
        },
        {
          "output_type": "display_data",
          "data": {
            "text/plain": [
              "<Figure size 432x288 with 2 Axes>"
            ],
            "image/png": "[encoded data removed]"
          },
          "metadata": {
            "needs_background": "light"
          }
        }
      ],
      "source": [
        "print(\"Decision Tree\")\n",
        "print(cm_dt)\n",
        "plot_confusion_matrix(classifier_dt, X_test, Y_test)  \n",
        "plt.show()"
      ]
    },
    {
      "cell_type": "markdown",
      "metadata": {
        "id": "YAhzFDofEj2n"
      },
      "source": [
        "###Confusion Matrix Random Forest"
      ]
    },
    {
      "cell_type": "code",
      "execution_count": null,
      "metadata": {
        "colab": {
          "base_uri": "https://localhost:8080/",
          "height": 388
        },
        "id": "ZPutQEd5Dlgp",
        "outputId": "4b89c46b-0008-4ee1-984c-463e6fbd8994"
      },
      "outputs": [
        {
          "output_type": "stream",
          "name": "stdout",
          "text": [
            "Random Forest\n",
            "[[102   5]\n",
            " [  6  58]]\n"
          ]
        },
        {
          "output_type": "stream",
          "name": "stderr",
          "text": [
            "/usr/local/lib/python3.7/dist-packages/sklearn/utils/deprecation.py:87: FutureWarning: Function plot_confusion_matrix is deprecated; Function `plot_confusion_matrix` is deprecated in 1.0 and will be removed in 1.2. Use one of the class methods: ConfusionMatrixDisplay.from_predictions or ConfusionMatrixDisplay.from_estimator.\n",
            "  warnings.warn(msg, category=FutureWarning)\n"
          ]
        },
        {
          "output_type": "display_data",
          "data": {
            "text/plain": [
              "<Figure size 432x288 with 2 Axes>"
            ],
            "image/png": "[encoded data removed]"
          },
          "metadata": {
            "needs_background": "light"
          }
        }
      ],
      "source": [
        "print(\"Random Forest\")\n",
        "print(cm_rf)\n",
        "plot_confusion_matrix(classifier_rf, X_test, Y_test)  \n",
        "plt.show()"
      ]
    },
    {
      "cell_type": "markdown",
      "metadata": {
        "id": "15G7B6EyFdH4"
      },
      "source": [
        "##ROC Curve"
      ]
    },
    {
      "cell_type": "code",
      "execution_count": null,
      "metadata": {
        "colab": {
          "base_uri": "https://localhost:8080/",
          "height": 567
        },
        "id": "b2D84FuoFhth",
        "outputId": "5cbab516-6afd-4d18-edfc-f0e16ce1af46"
      },
      "outputs": [
        {
          "output_type": "stream",
          "name": "stderr",
          "text": [
            "/usr/local/lib/python3.7/dist-packages/sklearn/utils/deprecation.py:87: FutureWarning: Function plot_roc_curve is deprecated; Function :func:`plot_roc_curve` is deprecated in 1.0 and will be removed in 1.2. Use one of the class methods: :meth:`sklearn.metric.RocCurveDisplay.from_predictions` or :meth:`sklearn.metric.RocCurveDisplay.from_estimator`.\n",
            "  warnings.warn(msg, category=FutureWarning)\n",
            "/usr/local/lib/python3.7/dist-packages/sklearn/utils/deprecation.py:87: FutureWarning: Function plot_roc_curve is deprecated; Function :func:`plot_roc_curve` is deprecated in 1.0 and will be removed in 1.2. Use one of the class methods: :meth:`sklearn.metric.RocCurveDisplay.from_predictions` or :meth:`sklearn.metric.RocCurveDisplay.from_estimator`.\n",
            "  warnings.warn(msg, category=FutureWarning)\n",
            "/usr/local/lib/python3.7/dist-packages/sklearn/utils/deprecation.py:87: FutureWarning: Function plot_roc_curve is deprecated; Function :func:`plot_roc_curve` is deprecated in 1.0 and will be removed in 1.2. Use one of the class methods: :meth:`sklearn.metric.RocCurveDisplay.from_predictions` or :meth:`sklearn.metric.RocCurveDisplay.from_estimator`.\n",
            "  warnings.warn(msg, category=FutureWarning)\n",
            "/usr/local/lib/python3.7/dist-packages/sklearn/utils/deprecation.py:87: FutureWarning: Function plot_roc_curve is deprecated; Function :func:`plot_roc_curve` is deprecated in 1.0 and will be removed in 1.2. Use one of the class methods: :meth:`sklearn.metric.RocCurveDisplay.from_predictions` or :meth:`sklearn.metric.RocCurveDisplay.from_estimator`.\n",
            "  warnings.warn(msg, category=FutureWarning)\n",
            "/usr/local/lib/python3.7/dist-packages/sklearn/utils/deprecation.py:87: FutureWarning: Function plot_roc_curve is deprecated; Function :func:`plot_roc_curve` is deprecated in 1.0 and will be removed in 1.2. Use one of the class methods: :meth:`sklearn.metric.RocCurveDisplay.from_predictions` or :meth:`sklearn.metric.RocCurveDisplay.from_estimator`.\n",
            "  warnings.warn(msg, category=FutureWarning)\n",
            "/usr/local/lib/python3.7/dist-packages/sklearn/utils/deprecation.py:87: FutureWarning: Function plot_roc_curve is deprecated; Function :func:`plot_roc_curve` is deprecated in 1.0 and will be removed in 1.2. Use one of the class methods: :meth:`sklearn.metric.RocCurveDisplay.from_predictions` or :meth:`sklearn.metric.RocCurveDisplay.from_estimator`.\n",
            "  warnings.warn(msg, category=FutureWarning)\n",
            "/usr/local/lib/python3.7/dist-packages/sklearn/utils/deprecation.py:87: FutureWarning: Function plot_roc_curve is deprecated; Function :func:`plot_roc_curve` is deprecated in 1.0 and will be removed in 1.2. Use one of the class methods: :meth:`sklearn.metric.RocCurveDisplay.from_predictions` or :meth:`sklearn.metric.RocCurveDisplay.from_estimator`.\n",
            "  warnings.warn(msg, category=FutureWarning)\n"
          ]
        },
        {
          "output_type": "execute_result",
          "data": {
            "text/plain": [
              "<sklearn.metrics._plot.roc_curve.RocCurveDisplay at 0x7f24fe9962d0>"
            ]
          },
          "metadata": {},
          "execution_count": 29
        },
        {
          "output_type": "display_data",
          "data": {
            "text/plain": [
              "<Figure size 432x288 with 1 Axes>"
            ],
            "image/png": "[encoded data removed]"
          },
          "metadata": {
            "needs_background": "light"
          }
        }
      ],
      "source": [
        "from sklearn.metrics import plot_roc_curve\n",
        "disp = plot_roc_curve(classifier_logistic_regression,X_test,Y_test)\n",
        "plot_roc_curve(classifier_knn,X_test,Y_test,ax=disp.ax_)\n",
        "plot_roc_curve(classifier_svm,X_test,Y_test,ax=disp.ax_)\n",
        "plot_roc_curve(classifier_ksvm,X_test,Y_test,ax=disp.ax_)\n",
        "plot_roc_curve(classifier_nb,X_test,Y_test,ax=disp.ax_)\n",
        "plot_roc_curve(classifier_dt,X_test,Y_test,ax=disp.ax_)\n",
        "plot_roc_curve(classifier_rf,X_test,Y_test,ax=disp.ax_)"
      ]
    },
    {
      "cell_type": "markdown",
      "metadata": {
        "id": "XWl5f0kUJ1Eo"
      },
      "source": [
        "##Sample Code How the Voting Algorithm was Implemented for both Soft and Hard"
      ]
    },
    {
      "cell_type": "code",
      "execution_count": null,
      "metadata": {
        "id": "JCMxZFTWKC5n"
      },
      "outputs": [],
      "source": [
        "    # def predict(self, X):\n",
        "    #     \"\"\"Predict class labels for X.\n",
        "\n",
        "    #     Parameters\n",
        "    #     ----------\n",
        "    #     X : {array-like, sparse matrix} of shape (n_samples, n_features)\n",
        "    #         The input samples.\n",
        "\n",
        "    #     Returns\n",
        "    #     -------\n",
        "    #     maj : array-like of shape (n_samples,)\n",
        "    #         Predicted class labels.\n",
        "    #     \"\"\"\n",
        "    #     check_is_fitted(self)\n",
        "    #     if self.voting == \"soft\":\n",
        "    #         maj = np.argmax(self.predict_proba(X), axis=1)\n",
        "\n",
        "    #     else:  # 'hard' voting\n",
        "    #         predictions = self._predict(X)\n",
        "    #         maj = np.apply_along_axis(\n",
        "    #             lambda x: np.argmax(np.bincount(x, weights=self._weights_not_none)),\n",
        "    #             axis=1,\n",
        "    #             arr=predictions,\n",
        "    #         )\n",
        "\n",
        "    #     maj = self.le_.inverse_transform(maj)\n",
        "\n",
        "    #     return maj"
      ]
    },
    {
      "cell_type": "markdown",
      "metadata": {
        "id": "BTSyVdPmEbn2"
      },
      "source": [
        "##Applying Voting Classifier to determine the prediction accuracy of the model(Soft voting)"
      ]
    },
    {
      "cell_type": "code",
      "execution_count": null,
      "metadata": {
        "colab": {
          "base_uri": "https://localhost:8080/"
        },
        "id": "bCBUqUVCEfZV",
        "outputId": "96a8ebd8-1b4c-48c0-e5ff-57a35c2e16bf"
      },
      "outputs": [
        {
          "output_type": "stream",
          "name": "stdout",
          "text": [
            "Final Acurracy of Soft Voting ---> 95.90643274853801\n"
          ]
        }
      ],
      "source": [
        "from sklearn.ensemble import VotingClassifier\n",
        "from sklearn.model_selection import cross_val_score\n",
        "eclf2 = VotingClassifier(estimators=[('lr', classifier_logistic_regression),('knn', classifier_knn),('svm', classifier_svm),('ksvm', classifier_ksvm),('dt', classifier_dt), ('rf', classifier_rf), ('gnb', classifier_nb)], voting='soft')\n",
        "eclf2 = eclf2.fit(X_train, Y_train)\n",
        "y_pred = eclf2.predict(X_test)\n",
        "acc = accuracy_score(Y_test, y_pred)\n",
        "print(\"Final Acurracy of Soft Voting --->\",acc*100)\n",
        "# for clf, label in zip([classifier_logistic_regression, classifier_knn, classifier_svm,classifier_ksvm,classifier_dt,classifier_rf,classifier_nb, eclf2], ['Logistic Regression', 'KNN', 'SVM','Kernel SVM','Decision Tree','Random Forest','Naive Bayes' 'Ensemble']):\n",
        "#      scores = cross_val_score(clf, X, y, scoring='accuracy', cv=10)\n",
        "#      print(\"Accuracy: %0.2f (+/- %0.2f) [%s]\" % (scores.mean(), scores.std(), label))"
      ]
    },
    {
      "cell_type": "markdown",
      "metadata": {
        "id": "u_Ys8STOEYoB"
      },
      "source": [
        ""
      ]
    },
    {
      "cell_type": "markdown",
      "metadata": {
        "id": "hwy-M3l3v_yg"
      },
      "source": [
        "##Applying Voting Classifier to determine the prediction accuracy of the model(Hard voting)"
      ]
    },
    {
      "cell_type": "code",
      "execution_count": null,
      "metadata": {
        "colab": {
          "base_uri": "https://localhost:8080/"
        },
        "id": "AlUFZNZawMHr",
        "outputId": "c7fe985d-6d9a-47c4-93f3-db3058eed743"
      },
      "outputs": [
        {
          "output_type": "stream",
          "name": "stdout",
          "text": [
            "Final Acurracy of Hard Voting ---> 95.32163742690058\n"
          ]
        }
      ],
      "source": [
        "from sklearn.ensemble import VotingClassifier\n",
        "eclf1 = VotingClassifier(estimators=[('lr', classifier_logistic_regression),('knn', classifier_knn),('svm', classifier_svm),('ksvm', classifier_ksvm),('dt', classifier_dt), ('rf', classifier_rf), ('gnb', classifier_nb)], voting='hard')\n",
        "eclf1 = eclf1.fit(X_train, Y_train)\n",
        "y_pred = eclf1.predict(X_test)\n",
        "acc = accuracy_score(Y_test, y_pred)\n",
        "print(\"Final Acurracy of Hard Voting --->\",acc*100)"
      ]
    }
  ],
  "metadata": {
    "colab": {
      "collapsed_sections": [],
      "name": "Breast_Cancer_Prediction_System_Final_Model.ipynb",
      "provenance": []
    },
    "kernelspec": {
      "display_name": "Python 3",
      "name": "python3"
    },
    "language_info": {
      "name": "python"
    }
  },
  "nbformat": 4,
  "nbformat_minor": 0
}